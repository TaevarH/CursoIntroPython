{
 "cells": [
  {
   "cell_type": "markdown",
   "metadata": {},
   "source": [
    "# Kata Módulo 3"
   ]
  },
  {
   "cell_type": "markdown",
   "metadata": {},
   "source": [
    "Primera parte "
   ]
  },
  {
   "cell_type": "code",
   "execution_count": 7,
   "metadata": {},
   "outputs": [
    {
     "name": "stdout",
     "output_type": "stream",
     "text": [
      "Advertencia: Un asteroide se acerca a 49 km/s\n"
     ]
    }
   ],
   "source": [
    "asteroide = 49\n",
    "\n",
    "if asteroide > 25:\n",
    "    print(\"Advertencia: Un asteroide se acerca a \" + str(asteroide) +\" km/s\")\n",
    "\n",
    "else:  \n",
    "    print(\"Todo en orden\")\n"
   ]
  },
  {
   "cell_type": "markdown",
   "metadata": {},
   "source": [
    "Segunda parte"
   ]
  },
  {
   "cell_type": "code",
   "execution_count": 8,
   "metadata": {},
   "outputs": [
    {
     "name": "stdout",
     "output_type": "stream",
     "text": [
      "No hay asteroides pasando a velocidad suficiente para que irradie luz\n"
     ]
    }
   ],
   "source": [
    "asteroide = 19\n",
    "\n",
    "if asteroide == 20:\n",
    "    print(\"Hay un asteroide pasando a la velocidad necesaria para que irradie luz\")\n",
    "\n",
    "elif asteroide >20:\n",
    "    print(\"Hay un asteroide pasando a la velocidad necesaria para que irradie luz\")\n",
    "\n",
    "else:\n",
    "    print(\"No hay asteroides pasando a velocidad suficiente para que irradie luz\")"
   ]
  },
  {
   "cell_type": "markdown",
   "metadata": {},
   "source": [
    "Tercera parte"
   ]
  },
  {
   "cell_type": "code",
   "execution_count": 9,
   "metadata": {},
   "outputs": [
    {
     "name": "stdout",
     "output_type": "stream",
     "text": [
      "Un asteroide que no representa riesgo puede está irrandiando luz\n"
     ]
    }
   ],
   "source": [
    "asteroideVel = 30\n",
    "asteroideTam = 20\n",
    "\n",
    "if asteroideTam < 25 and asteroideVel<25:\n",
    "    print(\"Un asteroide pequeño ha pasado cerca pero seguramente se desintegró antes de que pudieras verlo\")\n",
    "\n",
    "if asteroideTam > 25 and asteroideVel > 25:\n",
    "    print(\"¡Alerta! Asteroide peligroso\")\n",
    "\n",
    "if asteroideTam <25 and asteroideVel >= 20:\n",
    "    print(\"Un asteroide que no representa riesgo puede está irrandiando luz\")\n",
    "\n",
    "\n"
   ]
  }
 ],
 "metadata": {
  "interpreter": {
   "hash": "31f2aee4e71d21fbe5cf8b01ff0e069b9275f58929596ceb00d14d90e3e16cd6"
  },
  "kernelspec": {
   "display_name": "Python 3.8.9 64-bit",
   "language": "python",
   "name": "python3"
  },
  "language_info": {
   "codemirror_mode": {
    "name": "ipython",
    "version": 3
   },
   "file_extension": ".py",
   "mimetype": "text/x-python",
   "name": "python",
   "nbconvert_exporter": "python",
   "pygments_lexer": "ipython3",
   "version": "3.9.10"
  },
  "orig_nbformat": 4
 },
 "nbformat": 4,
 "nbformat_minor": 2
}
