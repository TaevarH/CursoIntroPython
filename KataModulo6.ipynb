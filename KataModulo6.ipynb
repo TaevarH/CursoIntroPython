{
 "cells": [
  {
   "cell_type": "markdown",
   "metadata": {},
   "source": [
    "# Kata Módulo 6"
   ]
  },
  {
   "cell_type": "markdown",
   "metadata": {},
   "source": [
    "Ejercicio 1"
   ]
  },
  {
   "cell_type": "code",
   "execution_count": 1,
   "metadata": {},
   "outputs": [
    {
     "name": "stdout",
     "output_type": "stream",
     "text": [
      "El primer planeta es Mercurio\n",
      "El segundo planeta es Venus\n",
      "El tercer planeta es Tierra\n",
      "El cuarto planeta es Marte\n",
      "El quinto planeta es Júpiter\n",
      "El sexto planeta es Saturno\n",
      "El séptimo planeta es Urano\n",
      "El octavo planeta es Neptuno\n",
      "Hay 8 planetas\n",
      "El último planeta es Plutón\n"
     ]
    }
   ],
   "source": [
    "planetas = ['Mercurio', 'Venus', 'Tierra', 'Marte', 'Júpiter', 'Saturno', 'Urano', 'Neptuno']\n",
    "print(\"El primer planeta es \"+planetas[0])\n",
    "print(\"El segundo planeta es \"+planetas[1])\n",
    "print(\"El tercer planeta es \"+planetas[2])\n",
    "print(\"El cuarto planeta es \"+planetas[3])\n",
    "print(\"El quinto planeta es \"+planetas[4])\n",
    "print(\"El sexto planeta es \"+planetas[5])\n",
    "print(\"El séptimo planeta es \"+planetas[6])\n",
    "print(\"El octavo planeta es \"+planetas[7])\n",
    "num = len(planetas)\n",
    "print(\"Hay \"+ str(num) +\" planetas\")\n",
    "\n",
    "planetas.append('Plutón')\n",
    "print(\"El último planeta es \"+ str(planetas[-1]))"
   ]
  },
  {
   "cell_type": "markdown",
   "metadata": {},
   "source": [
    "Ejercicio 2"
   ]
  },
  {
   "cell_type": "code",
   "execution_count": 2,
   "metadata": {},
   "outputs": [
    {
     "name": "stdout",
     "output_type": "stream",
     "text": [
      "Los planetas más cerca a Tierra son Venus y Marte\n",
      "De esos planetas, el que está mas cerca del sol es Venus\n",
      "Y el que está mas lejos del sol es Marte\n"
     ]
    }
   ],
   "source": [
    "planetas = ['Mercurio', 'Venus', 'Tierra', 'Marte', 'Júpiter', 'Saturno', 'Urano', 'Neptuno']\n",
    "solicitud = input(\"Ingresa por teclado el planeta que deseas conocer:\")\n",
    "\n",
    "posicion = planetas.index(solicitud)\n",
    "\n",
    "print(\"Los planetas más cerca a \"+solicitud+\" son \"+str(planetas[posicion-1])+\" y \"+str(planetas[posicion+1]))\n",
    "print(\"De esos planetas, el que está mas cerca del sol es \"+str(planetas[posicion-1]))\n",
    "print(\"Y el que está mas lejos del sol es \"+str(planetas[posicion+1]))\n"
   ]
  }
 ],
 "metadata": {
  "interpreter": {
   "hash": "397704579725e15f5c7cb49fe5f0341eb7531c82d19f2c29d197e8b64ab5776b"
  },
  "kernelspec": {
   "display_name": "Python 3.9.10 64-bit",
   "language": "python",
   "name": "python3"
  },
  "language_info": {
   "codemirror_mode": {
    "name": "ipython",
    "version": 3
   },
   "file_extension": ".py",
   "mimetype": "text/x-python",
   "name": "python",
   "nbconvert_exporter": "python",
   "pygments_lexer": "ipython3",
   "version": "3.9.10"
  },
  "orig_nbformat": 4
 },
 "nbformat": 4,
 "nbformat_minor": 2
}
