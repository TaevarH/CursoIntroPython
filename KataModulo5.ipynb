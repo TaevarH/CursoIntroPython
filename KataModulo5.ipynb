{
 "cells": [
  {
   "cell_type": "markdown",
   "metadata": {},
   "source": [
    "# Kata Módulo 5"
   ]
  },
  {
   "cell_type": "markdown",
   "metadata": {},
   "source": [
    "Primer ejercicio"
   ]
  },
  {
   "cell_type": "code",
   "execution_count": 10,
   "metadata": {},
   "outputs": [
    {
     "name": "stdout",
     "output_type": "stream",
     "text": [
      "La distancia enntre Júpiter y la tierra es de 628949330 kms\n",
      "La distancia entre Júpiter y la tierra es de 390577534 millas\n"
     ]
    }
   ],
   "source": [
    "jupiter = 778547200\n",
    "tierra = 149597870\n",
    "\n",
    "distanciaKM = jupiter - tierra\n",
    "distanciaMi = round(distanciaKM * 0.621)\n",
    "print(\"La distancia enntre Júpiter y la tierra es de \"+ str(distanciaKM) + \" kms\")\n",
    "print(\"La distancia entre Júpiter y la tierra es de \"+ str(distanciaMi) + \" millas\")"
   ]
  },
  {
   "cell_type": "markdown",
   "metadata": {},
   "source": [
    "Segundo ejercicio"
   ]
  },
  {
   "cell_type": "code",
   "execution_count": 11,
   "metadata": {},
   "outputs": [
    {
     "name": "stdout",
     "output_type": "stream",
     "text": [
      "La distancia entre ambos planetas es de 2814600000 kilómetros\n",
      "La distancia entre ambos planetas es de 1747866600 millas\n"
     ]
    }
   ],
   "source": [
    "planeta1 = input(\"Ingresa la distancia al sol del primer planeta en kms: \")\n",
    "planeta2 = input(\"Ingresa la distancia al sol del segundo planeta en kms: \")\n",
    "disPlaneta1 = int(planeta1)\n",
    "disPlaneta2 = int(planeta2)\n",
    "\n",
    "resultadoKM = abs(disPlaneta1 - disPlaneta2)\n",
    "resultadoMi = round (resultadoKM * 0.621)\n",
    "\n",
    "print(\"La distancia entre ambos planetas es de \"+ str(resultadoKM) + \" km\")\n",
    "print(\"La distancia entre ambos planetas es de \"+ str(resultadoMi)+ \" millas\")"
   ]
  }
 ],
 "metadata": {
  "interpreter": {
   "hash": "397704579725e15f5c7cb49fe5f0341eb7531c82d19f2c29d197e8b64ab5776b"
  },
  "kernelspec": {
   "display_name": "Python 3.9.10 64-bit",
   "language": "python",
   "name": "python3"
  },
  "language_info": {
   "codemirror_mode": {
    "name": "ipython",
    "version": 3
   },
   "file_extension": ".py",
   "mimetype": "text/x-python",
   "name": "python",
   "nbconvert_exporter": "python",
   "pygments_lexer": "ipython3",
   "version": "3.9.10"
  },
  "orig_nbformat": 4
 },
 "nbformat": 4,
 "nbformat_minor": 2
}
